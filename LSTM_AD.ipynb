{
  "nbformat": 4,
  "nbformat_minor": 0,
  "metadata": {
    "colab": {
      "provenance": [],
      "gpuType": "T4"
    },
    "kernelspec": {
      "name": "python3",
      "display_name": "Python 3"
    },
    "language_info": {
      "name": "python"
    },
    "accelerator": "GPU"
  },
  "cells": [
    {
      "cell_type": "code",
      "execution_count": 2,
      "metadata": {
        "colab": {
          "base_uri": "https://localhost:8080/"
        },
        "id": "wScnqntZPXsa",
        "outputId": "6be31699-3d6d-447f-8e39-e768b18ed047"
      },
      "outputs": [
        {
          "output_type": "stream",
          "name": "stdout",
          "text": [
            "Mounted at /content/drive\n"
          ]
        }
      ],
      "source": [
        "from google.colab import drive\n",
        "drive.mount('/content/drive')"
      ]
    },
    {
      "cell_type": "code",
      "source": [
        "!rm -r /content/LSTM-AD"
      ],
      "metadata": {
        "id": "paD2ibh-P14A",
        "colab": {
          "base_uri": "https://localhost:8080/"
        },
        "outputId": "46c24cf6-ff44-46e2-cea3-8835539e2fbc"
      },
      "execution_count": 3,
      "outputs": [
        {
          "output_type": "stream",
          "name": "stdout",
          "text": [
            "rm: cannot remove '/content/LSTM-AD': No such file or directory\n"
          ]
        }
      ]
    },
    {
      "cell_type": "code",
      "source": [
        "!git clone \"https://github.com/davideaiello/LSTM-AD\""
      ],
      "metadata": {
        "colab": {
          "base_uri": "https://localhost:8080/"
        },
        "id": "feeTeqgNPdDQ",
        "outputId": "14dde150-585d-4828-d68e-e8f4f2fdf53e"
      },
      "execution_count": 4,
      "outputs": [
        {
          "output_type": "stream",
          "name": "stdout",
          "text": [
            "Cloning into 'LSTM-AD'...\n",
            "remote: Enumerating objects: 95, done.\u001b[K\n",
            "remote: Counting objects: 100% (95/95), done.\u001b[K\n",
            "remote: Compressing objects: 100% (65/65), done.\u001b[K\n",
            "remote: Total 95 (delta 55), reused 65 (delta 28), pack-reused 0\u001b[K\n",
            "Receiving objects: 100% (95/95), 15.00 KiB | 15.00 MiB/s, done.\n",
            "Resolving deltas: 100% (55/55), done.\n"
          ]
        }
      ]
    },
    {
      "cell_type": "code",
      "source": [
        "!python3 LSTM-AD/train.py --dataset_folder /content/drive/MyDrive/Colab/MLA/MLA_Dati/Kuka_v1"
      ],
      "metadata": {
        "id": "4k2CW5sAPu7n"
      },
      "execution_count": null,
      "outputs": []
    },
    {
      "cell_type": "code",
      "source": [
        "!python3 LSTM-AD/evaluate.py --dataset_folder /content/drive/MyDrive/Colab/MLA/MLA_Dati/Kuka_v1  --resume"
      ],
      "metadata": {
        "id": "VRbBlNr_Ag6V"
      },
      "execution_count": null,
      "outputs": []
    }
  ]
}