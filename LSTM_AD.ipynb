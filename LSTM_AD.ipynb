{
  "cells": [
    {
      "cell_type": "code",
      "execution_count": 2,
      "metadata": {
        "colab": {
          "base_uri": "https://localhost:8080/"
        },
        "id": "wScnqntZPXsa",
        "outputId": "6be31699-3d6d-447f-8e39-e768b18ed047"
      },
      "outputs": [
        {
          "name": "stdout",
          "output_type": "stream",
          "text": [
            "Mounted at /content/drive\n"
          ]
        }
      ],
      "source": [
        "from google.colab import drive\n",
        "drive.mount('/content/drive')"
      ]
    },
    {
      "cell_type": "code",
      "execution_count": null,
      "metadata": {},
      "outputs": [],
      "source": [
        "import os\n",
        "if not os.path.isfile('/content/csv_20220811'):\n",
        "    !jar xvf \"/content/drive/MyDrive/Colab/MLA/MLA_Dati/csv_20220811-20220927T082743Z-001.zip\""
      ]
    },
    {
      "cell_type": "code",
      "execution_count": 3,
      "metadata": {
        "colab": {
          "base_uri": "https://localhost:8080/"
        },
        "id": "paD2ibh-P14A",
        "outputId": "46c24cf6-ff44-46e2-cea3-8835539e2fbc"
      },
      "outputs": [
        {
          "name": "stdout",
          "output_type": "stream",
          "text": [
            "rm: cannot remove '/content/LSTM-AD': No such file or directory\n"
          ]
        }
      ],
      "source": [
        "!rm -r /content/LSTM-AD2"
      ]
    },
    {
      "cell_type": "code",
      "execution_count": 4,
      "metadata": {
        "colab": {
          "base_uri": "https://localhost:8080/"
        },
        "id": "feeTeqgNPdDQ",
        "outputId": "14dde150-585d-4828-d68e-e8f4f2fdf53e"
      },
      "outputs": [
        {
          "name": "stdout",
          "output_type": "stream",
          "text": [
            "Cloning into 'LSTM-AD'...\n",
            "remote: Enumerating objects: 95, done.\u001b[K\n",
            "remote: Counting objects: 100% (95/95), done.\u001b[K\n",
            "remote: Compressing objects: 100% (65/65), done.\u001b[K\n",
            "remote: Total 95 (delta 55), reused 65 (delta 28), pack-reused 0\u001b[K\n",
            "Receiving objects: 100% (95/95), 15.00 KiB | 15.00 MiB/s, done.\n",
            "Resolving deltas: 100% (55/55), done.\n"
          ]
        }
      ],
      "source": [
        "!git clone \"https://github.com/davideaiello/LSTM-AD2\""
      ]
    },
    {
      "cell_type": "code",
      "execution_count": null,
      "metadata": {
        "id": "4k2CW5sAPu7n"
      },
      "outputs": [],
      "source": [
        "!python3 LSTM-AD/train.py --dataset_folder /content/csv_20220811"
      ]
    },
    {
      "cell_type": "code",
      "execution_count": null,
      "metadata": {
        "id": "VRbBlNr_Ag6V"
      },
      "outputs": [],
      "source": [
        "!python3 LSTM-AD/evaluate.py --dataset_folder /content/csv_20220811  --resume"
      ]
    }
  ],
  "metadata": {
    "accelerator": "GPU",
    "colab": {
      "gpuType": "T4",
      "provenance": []
    },
    "kernelspec": {
      "display_name": "Python 3",
      "name": "python3"
    },
    "language_info": {
      "name": "python"
    }
  },
  "nbformat": 4,
  "nbformat_minor": 0
}
